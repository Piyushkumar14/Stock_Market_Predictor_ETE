{
 "cells": [
  {
   "cell_type": "code",
   "execution_count": 1,
   "id": "initial_id",
   "metadata": {
    "collapsed": true,
    "ExecuteTime": {
     "end_time": "2024-05-16T09:59:05.634387800Z",
     "start_time": "2024-05-16T09:59:04.981573300Z"
    }
   },
   "outputs": [],
   "source": [
    "import pandas as pd"
   ]
  },
  {
   "cell_type": "code",
   "execution_count": 3,
   "outputs": [],
   "source": [
    "df = pd.read_csv('../artifacts/data_ingestion/StockPrices/sp500.csv')"
   ],
   "metadata": {
    "collapsed": false,
    "ExecuteTime": {
     "end_time": "2024-05-16T09:59:36.784373400Z",
     "start_time": "2024-05-16T09:59:36.744789100Z"
    }
   },
   "id": "f234502471d90aef"
  },
  {
   "cell_type": "code",
   "execution_count": 4,
   "outputs": [
    {
     "data": {
      "text/plain": "         Date   Open   High    Low  Close     Volume  Dividends  Stock Splits\n0  1950-01-03  16.66  16.66  16.66  16.66  1260000.0        0.0           0.0\n1  1950-01-04  16.85  16.85  16.85  16.85  1890000.0        0.0           0.0\n2  1950-01-05  16.93  16.93  16.93  16.93  2550000.0        0.0           0.0\n3  1950-01-06  16.98  16.98  16.98  16.98  2010000.0        0.0           0.0\n4  1950-01-09  17.08  17.08  17.08  17.08  2520000.0        0.0           0.0",
      "text/html": "<div>\n<style scoped>\n    .dataframe tbody tr th:only-of-type {\n        vertical-align: middle;\n    }\n\n    .dataframe tbody tr th {\n        vertical-align: top;\n    }\n\n    .dataframe thead th {\n        text-align: right;\n    }\n</style>\n<table border=\"1\" class=\"dataframe\">\n  <thead>\n    <tr style=\"text-align: right;\">\n      <th></th>\n      <th>Date</th>\n      <th>Open</th>\n      <th>High</th>\n      <th>Low</th>\n      <th>Close</th>\n      <th>Volume</th>\n      <th>Dividends</th>\n      <th>Stock Splits</th>\n    </tr>\n  </thead>\n  <tbody>\n    <tr>\n      <th>0</th>\n      <td>1950-01-03</td>\n      <td>16.66</td>\n      <td>16.66</td>\n      <td>16.66</td>\n      <td>16.66</td>\n      <td>1260000.0</td>\n      <td>0.0</td>\n      <td>0.0</td>\n    </tr>\n    <tr>\n      <th>1</th>\n      <td>1950-01-04</td>\n      <td>16.85</td>\n      <td>16.85</td>\n      <td>16.85</td>\n      <td>16.85</td>\n      <td>1890000.0</td>\n      <td>0.0</td>\n      <td>0.0</td>\n    </tr>\n    <tr>\n      <th>2</th>\n      <td>1950-01-05</td>\n      <td>16.93</td>\n      <td>16.93</td>\n      <td>16.93</td>\n      <td>16.93</td>\n      <td>2550000.0</td>\n      <td>0.0</td>\n      <td>0.0</td>\n    </tr>\n    <tr>\n      <th>3</th>\n      <td>1950-01-06</td>\n      <td>16.98</td>\n      <td>16.98</td>\n      <td>16.98</td>\n      <td>16.98</td>\n      <td>2010000.0</td>\n      <td>0.0</td>\n      <td>0.0</td>\n    </tr>\n    <tr>\n      <th>4</th>\n      <td>1950-01-09</td>\n      <td>17.08</td>\n      <td>17.08</td>\n      <td>17.08</td>\n      <td>17.08</td>\n      <td>2520000.0</td>\n      <td>0.0</td>\n      <td>0.0</td>\n    </tr>\n  </tbody>\n</table>\n</div>"
     },
     "execution_count": 4,
     "metadata": {},
     "output_type": "execute_result"
    }
   ],
   "source": [
    "df.head()"
   ],
   "metadata": {
    "collapsed": false,
    "ExecuteTime": {
     "end_time": "2024-05-16T09:59:41.428957800Z",
     "start_time": "2024-05-16T09:59:41.358323500Z"
    }
   },
   "id": "15599ad9f80e7885"
  },
  {
   "cell_type": "code",
   "execution_count": 5,
   "outputs": [
    {
     "name": "stdout",
     "output_type": "stream",
     "text": [
      "<class 'pandas.core.frame.DataFrame'>\n",
      "RangeIndex: 18293 entries, 0 to 18292\n",
      "Data columns (total 8 columns):\n",
      " #   Column        Non-Null Count  Dtype  \n",
      "---  ------        --------------  -----  \n",
      " 0   Date          18292 non-null  object \n",
      " 1   Open          18292 non-null  float64\n",
      " 2   High          18292 non-null  float64\n",
      " 3   Low           18292 non-null  float64\n",
      " 4   Close         18292 non-null  float64\n",
      " 5   Volume        18292 non-null  float64\n",
      " 6   Dividends     18292 non-null  float64\n",
      " 7   Stock Splits  18292 non-null  float64\n",
      "dtypes: float64(7), object(1)\n",
      "memory usage: 1.1+ MB\n"
     ]
    }
   ],
   "source": [
    "df.info()"
   ],
   "metadata": {
    "collapsed": false,
    "ExecuteTime": {
     "end_time": "2024-05-16T10:00:00.950172800Z",
     "start_time": "2024-05-16T10:00:00.934574600Z"
    }
   },
   "id": "73e61bf04e560860"
  }
 ],
 "metadata": {
  "kernelspec": {
   "display_name": "Python 3",
   "language": "python",
   "name": "python3"
  },
  "language_info": {
   "codemirror_mode": {
    "name": "ipython",
    "version": 2
   },
   "file_extension": ".py",
   "mimetype": "text/x-python",
   "name": "python",
   "nbconvert_exporter": "python",
   "pygments_lexer": "ipython2",
   "version": "2.7.6"
  }
 },
 "nbformat": 4,
 "nbformat_minor": 5
}
