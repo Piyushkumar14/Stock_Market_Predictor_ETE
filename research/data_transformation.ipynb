{
 "cells": [
  {
   "cell_type": "code",
   "execution_count": 1,
   "id": "initial_id",
   "metadata": {
    "collapsed": true,
    "ExecuteTime": {
     "end_time": "2024-05-20T15:23:02.521706800Z",
     "start_time": "2024-05-20T15:23:02.519489100Z"
    }
   },
   "outputs": [],
   "source": [
    "import os"
   ]
  },
  {
   "cell_type": "code",
   "execution_count": 2,
   "outputs": [],
   "source": [
    "os.chdir(\"../\")"
   ],
   "metadata": {
    "collapsed": false,
    "ExecuteTime": {
     "end_time": "2024-05-20T15:23:02.527562100Z",
     "start_time": "2024-05-20T15:23:02.524052300Z"
    }
   },
   "id": "fec29d529ff0d826"
  },
  {
   "cell_type": "code",
   "execution_count": 3,
   "outputs": [
    {
     "data": {
      "text/plain": "'D:\\\\Projects\\\\Stock_Market_Predictor_ETE'"
     },
     "execution_count": 3,
     "metadata": {},
     "output_type": "execute_result"
    }
   ],
   "source": [
    "%pwd\n"
   ],
   "metadata": {
    "collapsed": false,
    "ExecuteTime": {
     "end_time": "2024-05-20T15:23:02.541043900Z",
     "start_time": "2024-05-20T15:23:02.527562100Z"
    }
   },
   "id": "d60b76584d818a0d"
  },
  {
   "cell_type": "code",
   "execution_count": 4,
   "outputs": [],
   "source": [
    "from dataclasses import dataclass\n",
    "from pathlib import Path\n",
    "\n",
    "\n",
    "@dataclass(frozen=True)\n",
    "class DataTransformationConfig:\n",
    "    root_dir: Path\n",
    "    data_path: Path"
   ],
   "metadata": {
    "collapsed": false,
    "ExecuteTime": {
     "end_time": "2024-05-20T15:23:02.541043900Z",
     "start_time": "2024-05-20T15:23:02.534248200Z"
    }
   },
   "id": "3ece07c926be9f63"
  },
  {
   "cell_type": "code",
   "execution_count": 5,
   "outputs": [],
   "source": [
    "from src.stock_predictor.constants import *\n",
    "from src.stock_predictor.utils.common import read_yaml, create_directories"
   ],
   "metadata": {
    "collapsed": false,
    "ExecuteTime": {
     "end_time": "2024-05-20T15:23:04.077544400Z",
     "start_time": "2024-05-20T15:23:02.539039Z"
    }
   },
   "id": "4345e513257138bb"
  },
  {
   "cell_type": "code",
   "execution_count": 6,
   "outputs": [],
   "source": [
    "class ConfigurationManager:\n",
    "    def __init__(\n",
    "        self,\n",
    "        config_filepath = CONFIG_FILE_PATH,\n",
    "        params_filepath = PARAMS_FILE_PATH,\n",
    "        schema_filepath = SCHEMA_FILE_PATH):\n",
    "\n",
    "        self.config = read_yaml(config_filepath)\n",
    "        self.params = read_yaml(params_filepath)\n",
    "        self.schema = read_yaml(schema_filepath)\n",
    "\n",
    "        create_directories([self.config.artifacts_root])\n",
    "\n",
    "\n",
    "    \n",
    "    def get_data_transformation_config(self) -> DataTransformationConfig:\n",
    "        config = self.config.data_transformation\n",
    "\n",
    "        create_directories([config.root_dir])\n",
    "\n",
    "        data_transformation_config = DataTransformationConfig(\n",
    "            root_dir=config.root_dir,\n",
    "            data_path=config.data_path,\n",
    "        )\n",
    "\n",
    "        return data_transformation_config"
   ],
   "metadata": {
    "collapsed": false,
    "ExecuteTime": {
     "end_time": "2024-05-20T15:23:04.082054100Z",
     "start_time": "2024-05-20T15:23:04.080545400Z"
    }
   },
   "id": "8ef7e5ccaf5f9b29"
  },
  {
   "cell_type": "code",
   "execution_count": 7,
   "outputs": [],
   "source": [
    "import os\n",
    "from src.stock_predictor import logger\n",
    "from src.stock_predictor.entity.config_entity import DataTransformationConfig\n",
    "from sklearn.model_selection import train_test_split\n",
    "import pandas as pd"
   ],
   "metadata": {
    "collapsed": false,
    "ExecuteTime": {
     "end_time": "2024-05-20T15:23:12.128099400Z",
     "start_time": "2024-05-20T15:23:04.084351200Z"
    }
   },
   "id": "c438852165ef0694"
  },
  {
   "cell_type": "code",
   "execution_count": 8,
   "outputs": [],
   "source": [
    "class DataTransformation:\n",
    "    def __init__(self, config: DataTransformationConfig):\n",
    "        self.config = config\n",
    "  \n",
    "\n",
    "    def transform_data(self):\n",
    "        data = pd.read_csv(self.config.data_path)\n",
    "\n",
    "        try:\n",
    "            # Perform data transformation here\n",
    "            del data[\"Dividends\"]\n",
    "            del data[\"Stock Splits\"]\n",
    "\n",
    "            data[\"Tomorrow\"] = data[\"Close\"].shift(-1)\n",
    "            data[\"Target\"] = (data[\"Tomorrow\"] > data[\"Close\"]).astype(int)\n",
    "            data = data.loc[\"1990-01-01\": ].copy()\n",
    "            data.dropna(inplace=True)\n",
    "            data.to_csv(self.config.data_path, index=False)\n",
    "        except Exception as e:\n",
    "            logger.error(f\"Error in data transformation: {e}\")\n",
    "            raise e\n",
    "    \n",
    "    def train_test_spliting(self):\n",
    "        data = pd.read_csv(self.config.data_path)\n",
    "\n",
    "        # Split the data into training and test sets. (0.75, 0.25) split.\n",
    "        train, test = train_test_split(data)\n",
    "\n",
    "        train.to_csv(os.path.join(self.config.root_dir, \"train.csv\"), index=False)\n",
    "        test.to_csv(os.path.join(self.config.root_dir, \"test.csv\"), index=False)\n",
    "\n",
    "        logger.info(\"Splitted data into training and test sets\")\n",
    "        logger.info(train.shape)\n",
    "        logger.info(test.shape)\n",
    "\n",
    "        print(train.shape)\n",
    "        print(test.shape)\n",
    "        "
   ],
   "metadata": {
    "collapsed": false,
    "ExecuteTime": {
     "end_time": "2024-05-20T15:23:12.135047800Z",
     "start_time": "2024-05-20T15:23:12.131777300Z"
    }
   },
   "id": "5a94105f138d8b2e"
  },
  {
   "cell_type": "code",
   "execution_count": 9,
   "outputs": [
    {
     "name": "stdout",
     "output_type": "stream",
     "text": [
      "True\n",
      "[2024-05-20 20:53:12,150: INFO: common: yaml file: config\\config.yaml loaded successfully]\n",
      "[2024-05-20 20:53:12,156: INFO: common: yaml file: params.yaml loaded successfully]\n",
      "[2024-05-20 20:53:12,165: INFO: common: yaml file: schema.yaml loaded successfully]\n",
      "[2024-05-20 20:53:12,166: INFO: common: created directory at: artifacts]\n",
      "[2024-05-20 20:53:12,167: INFO: common: created directory at: artifacts/data_transformation]\n"
     ]
    }
   ],
   "source": [
    "        try:\n",
    "            with open(Path(\"artifacts/data_validation/status.txt\"), \"r\") as f:\n",
    "                status = f.read().split(\" \")[-1]\n",
    "                print(status)\n",
    "\n",
    "            if status == \"True\":\n",
    "                config = ConfigurationManager()\n",
    "                data_transformation_config = config.get_data_transformation_config()\n",
    "                data_transformation = DataTransformation(config=data_transformation_config)\n",
    "                data_transformation.transform_data()\n",
    "                # data_transformation.train_test_spliting()\n",
    "            else:\n",
    "                raise Exception(\"You data schema is not valid\")\n",
    "\n",
    "        except Exception as e:\n",
    "            print(e)"
   ],
   "metadata": {
    "collapsed": false,
    "ExecuteTime": {
     "end_time": "2024-05-20T15:23:12.285478100Z",
     "start_time": "2024-05-20T15:23:12.137559100Z"
    }
   },
   "id": "78a75f8d7b12081a"
  }
 ],
 "metadata": {
  "kernelspec": {
   "display_name": "Python 3",
   "language": "python",
   "name": "python3"
  },
  "language_info": {
   "codemirror_mode": {
    "name": "ipython",
    "version": 2
   },
   "file_extension": ".py",
   "mimetype": "text/x-python",
   "name": "python",
   "nbconvert_exporter": "python",
   "pygments_lexer": "ipython2",
   "version": "2.7.6"
  }
 },
 "nbformat": 4,
 "nbformat_minor": 5
}
