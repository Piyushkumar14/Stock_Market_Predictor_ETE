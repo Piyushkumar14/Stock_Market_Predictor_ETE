{
 "cells": [
  {
   "cell_type": "code",
   "execution_count": 1,
   "id": "initial_id",
   "metadata": {
    "collapsed": true,
    "ExecuteTime": {
     "end_time": "2024-05-18T06:31:33.753553300Z",
     "start_time": "2024-05-18T06:31:33.746890200Z"
    }
   },
   "outputs": [],
   "source": [
    "import os"
   ]
  },
  {
   "cell_type": "code",
   "execution_count": 2,
   "outputs": [],
   "source": [
    "os.chdir(\"../\")"
   ],
   "metadata": {
    "collapsed": false,
    "ExecuteTime": {
     "end_time": "2024-05-18T06:31:37.967893Z",
     "start_time": "2024-05-18T06:31:37.961886Z"
    }
   },
   "id": "fec29d529ff0d826"
  },
  {
   "cell_type": "code",
   "execution_count": 3,
   "outputs": [
    {
     "data": {
      "text/plain": "'D:\\\\Projects\\\\Stock_Market_Predictor_ETE'"
     },
     "execution_count": 3,
     "metadata": {},
     "output_type": "execute_result"
    }
   ],
   "source": [
    "%pwd\n"
   ],
   "metadata": {
    "collapsed": false,
    "ExecuteTime": {
     "end_time": "2024-05-18T06:31:39.516008100Z",
     "start_time": "2024-05-18T06:31:39.505339400Z"
    }
   },
   "id": "d60b76584d818a0d"
  },
  {
   "cell_type": "code",
   "execution_count": 4,
   "outputs": [],
   "source": [
    "from dataclasses import dataclass\n",
    "from pathlib import Path\n",
    "\n",
    "\n",
    "@dataclass(frozen=True)\n",
    "class DataTransformationConfig:\n",
    "    root_dir: Path\n",
    "    data_path: Path"
   ],
   "metadata": {
    "collapsed": false,
    "ExecuteTime": {
     "end_time": "2024-05-18T06:31:41.664324900Z",
     "start_time": "2024-05-18T06:31:41.659813200Z"
    }
   },
   "id": "3ece07c926be9f63"
  },
  {
   "cell_type": "code",
   "execution_count": 5,
   "outputs": [],
   "source": [
    "from src.stock_predictor.constants import *\n",
    "from src.stock_predictor.utils.common import read_yaml, create_directories"
   ],
   "metadata": {
    "collapsed": false,
    "ExecuteTime": {
     "end_time": "2024-05-18T06:31:44.363698800Z",
     "start_time": "2024-05-18T06:31:43.411924200Z"
    }
   },
   "id": "4345e513257138bb"
  },
  {
   "cell_type": "code",
   "execution_count": 6,
   "outputs": [],
   "source": [
    "class ConfigurationManager:\n",
    "    def __init__(\n",
    "        self,\n",
    "        config_filepath = CONFIG_FILE_PATH,\n",
    "        params_filepath = PARAMS_FILE_PATH,\n",
    "        schema_filepath = SCHEMA_FILE_PATH):\n",
    "\n",
    "        self.config = read_yaml(config_filepath)\n",
    "        self.params = read_yaml(params_filepath)\n",
    "        self.schema = read_yaml(schema_filepath)\n",
    "\n",
    "        create_directories([self.config.artifacts_root])\n",
    "\n",
    "\n",
    "    \n",
    "    def get_data_transformation_config(self) -> DataTransformationConfig:\n",
    "        config = self.config.data_transformation\n",
    "\n",
    "        create_directories([config.root_dir])\n",
    "\n",
    "        data_transformation_config = DataTransformationConfig(\n",
    "            root_dir=config.root_dir,\n",
    "            data_path=config.data_path,\n",
    "        )\n",
    "\n",
    "        return data_transformation_config"
   ],
   "metadata": {
    "collapsed": false,
    "ExecuteTime": {
     "end_time": "2024-05-18T06:31:45.841295Z",
     "start_time": "2024-05-18T06:31:45.839778800Z"
    }
   },
   "id": "8ef7e5ccaf5f9b29"
  },
  {
   "cell_type": "code",
   "execution_count": 25,
   "outputs": [
    {
     "ename": "ModuleNotFoundError",
     "evalue": "No module named 'sklearn'",
     "output_type": "error",
     "traceback": [
      "\u001B[1;31m---------------------------------------------------------------------------\u001B[0m",
      "\u001B[1;31mModuleNotFoundError\u001B[0m                       Traceback (most recent call last)",
      "Cell \u001B[1;32mIn[25], line 4\u001B[0m\n\u001B[0;32m      2\u001B[0m \u001B[38;5;28;01mfrom\u001B[39;00m \u001B[38;5;21;01msrc\u001B[39;00m\u001B[38;5;21;01m.\u001B[39;00m\u001B[38;5;21;01mstock_predictor\u001B[39;00m \u001B[38;5;28;01mimport\u001B[39;00m logger\n\u001B[0;32m      3\u001B[0m \u001B[38;5;28;01mfrom\u001B[39;00m \u001B[38;5;21;01msrc\u001B[39;00m\u001B[38;5;21;01m.\u001B[39;00m\u001B[38;5;21;01mstock_predictor\u001B[39;00m\u001B[38;5;21;01m.\u001B[39;00m\u001B[38;5;21;01mentity\u001B[39;00m\u001B[38;5;21;01m.\u001B[39;00m\u001B[38;5;21;01mconfig_entity\u001B[39;00m \u001B[38;5;28;01mimport\u001B[39;00m DataTransformationConfig\n\u001B[1;32m----> 4\u001B[0m \u001B[38;5;28;01mfrom\u001B[39;00m \u001B[38;5;21;01msklearn\u001B[39;00m\u001B[38;5;21;01m.\u001B[39;00m\u001B[38;5;21;01mmodel_selection\u001B[39;00m \u001B[38;5;28;01mimport\u001B[39;00m train_test_split\n\u001B[0;32m      5\u001B[0m \u001B[38;5;28;01mimport\u001B[39;00m \u001B[38;5;21;01mpandas\u001B[39;00m \u001B[38;5;28;01mas\u001B[39;00m \u001B[38;5;21;01mpd\u001B[39;00m\n",
      "\u001B[1;31mModuleNotFoundError\u001B[0m: No module named 'sklearn'"
     ]
    }
   ],
   "source": [
    "import os\n",
    "from src.stock_predictor import logger\n",
    "from src.stock_predictor.entity.config_entity import DataTransformationConfig\n",
    "from sklearn.model_selection import train_test_split\n",
    "import pandas as pd"
   ],
   "metadata": {
    "collapsed": false,
    "ExecuteTime": {
     "end_time": "2024-05-18T06:46:42.164735Z",
     "start_time": "2024-05-18T06:46:42.152410500Z"
    }
   },
   "id": "c438852165ef0694"
  },
  {
   "cell_type": "code",
   "execution_count": 20,
   "outputs": [],
   "source": [
    "\n",
    "\n",
    "class DataTransformation:\n",
    "    def __init__(self, config: DataTransformationConfig):\n",
    "        self.config = config\n",
    "  \n",
    "\n",
    "    def transform_data(self):\n",
    "        data = pd.read_csv(self.config.data_path)\n",
    "\n",
    "        try:\n",
    "            # Perform data transformation here\n",
    "            del data[\"Dividends\"]\n",
    "            del data[\"Stock Splits\"]\n",
    "\n",
    "            data[\"Tomorrow\"] = data[\"Close\"].shift(-1)\n",
    "            data[\"Target\"] = (data[\"Tomorrow\"] > data[\"Close\"]).astype(int)\n",
    "            data = data.loc[\"1990-01-01\": ].copy()\n",
    "            print(data.head())\n",
    "        except Exception as e:\n",
    "            logger.error(f\"Error in data transformation: {e}\")\n",
    "            raise e\n"
   ],
   "metadata": {
    "collapsed": false,
    "ExecuteTime": {
     "end_time": "2024-05-18T06:38:34.307823Z",
     "start_time": "2024-05-18T06:38:34.297295400Z"
    }
   },
   "id": "5a94105f138d8b2e"
  },
  {
   "cell_type": "code",
   "execution_count": 21,
   "outputs": [
    {
     "name": "stdout",
     "output_type": "stream",
     "text": [
      "[2024-05-18 12:08:36,755: INFO: common: yaml file: config\\config.yaml loaded successfully]\n",
      "[2024-05-18 12:08:36,757: INFO: common: yaml file: params.yaml loaded successfully]\n",
      "[2024-05-18 12:08:36,758: INFO: common: yaml file: schema.yaml loaded successfully]\n",
      "[2024-05-18 12:08:36,759: INFO: common: created directory at: artifacts]\n",
      "[2024-05-18 12:08:36,759: INFO: common: created directory at: artifacts/data_transformation]\n",
      "            Date       Open       High        Low      Close     Volume  \\\n",
      "1991  1957-12-10  40.560001  40.560001  40.560001  40.560001  2360000.0   \n",
      "1992  1957-12-11  40.509998  40.509998  40.509998  40.509998  2240000.0   \n",
      "1993  1957-12-12  40.549999  40.549999  40.549999  40.549999  2330000.0   \n",
      "1994  1957-12-13  40.730000  40.730000  40.730000  40.730000  2310000.0   \n",
      "1995  1957-12-16  40.119999  40.119999  40.119999  40.119999  2350000.0   \n",
      "\n",
      "       Tomorrow  Target  \n",
      "1991  40.509998       0  \n",
      "1992  40.549999       1  \n",
      "1993  40.730000       1  \n",
      "1994  40.119999       0  \n",
      "1995  39.419998       0  \n"
     ]
    }
   ],
   "source": [
    "config = ConfigurationManager()\n",
    "data_transformation_config = config.get_data_transformation_config()\n",
    "obj = DataTransformation(config=data_transformation_config)\n",
    "obj.transform_data()"
   ],
   "metadata": {
    "collapsed": false,
    "ExecuteTime": {
     "end_time": "2024-05-18T06:38:36.789450400Z",
     "start_time": "2024-05-18T06:38:36.756823300Z"
    }
   },
   "id": "78a75f8d7b12081a"
  },
  {
   "cell_type": "code",
   "execution_count": 44,
   "outputs": [
    {
     "ename": "ModuleNotFoundError",
     "evalue": "No module named 'sklearn'",
     "output_type": "error",
     "traceback": [
      "\u001B[1;31m---------------------------------------------------------------------------\u001B[0m",
      "\u001B[1;31mModuleNotFoundError\u001B[0m                       Traceback (most recent call last)",
      "Cell \u001B[1;32mIn[44], line 1\u001B[0m\n\u001B[1;32m----> 1\u001B[0m \u001B[38;5;28;01mimport\u001B[39;00m \u001B[38;5;21;01msklearn\u001B[39;00m\n\u001B[0;32m      3\u001B[0m \u001B[38;5;28mprint\u001B[39m(\u001B[38;5;124m\"\u001B[39m\u001B[38;5;124mscikit-learn version: \u001B[39m\u001B[38;5;124m\"\u001B[39m, sklearn\u001B[38;5;241m.\u001B[39m__version__)\n",
      "\u001B[1;31mModuleNotFoundError\u001B[0m: No module named 'sklearn'"
     ]
    }
   ],
   "source": [
    "import sklearn\n",
    "\n",
    "print(\"scikit-learn version: \", sklearn.__version__)"
   ],
   "metadata": {
    "collapsed": false,
    "ExecuteTime": {
     "end_time": "2024-05-18T07:14:13.167837200Z",
     "start_time": "2024-05-18T07:14:13.155453800Z"
    }
   },
   "id": "da5a15d9bfa8eec2"
  },
  {
   "cell_type": "code",
   "execution_count": null,
   "outputs": [],
   "source": [],
   "metadata": {
    "collapsed": false
   },
   "id": "d5d899ce59da1870"
  }
 ],
 "metadata": {
  "kernelspec": {
   "display_name": "Python 3",
   "language": "python",
   "name": "python3"
  },
  "language_info": {
   "codemirror_mode": {
    "name": "ipython",
    "version": 2
   },
   "file_extension": ".py",
   "mimetype": "text/x-python",
   "name": "python",
   "nbconvert_exporter": "python",
   "pygments_lexer": "ipython2",
   "version": "2.7.6"
  }
 },
 "nbformat": 4,
 "nbformat_minor": 5
}
